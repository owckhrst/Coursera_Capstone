{
    "cells": [
        {
            "metadata": {
                "collapsed": true
            },
            "cell_type": "markdown",
            "source": "# Applied Data Science Capstone project"
        },
        {
            "metadata": {},
            "cell_type": "markdown",
            "source": "This notebook will contain the capstone project for the Applied Data Science coure on Coursera.\nCurrent content:\n1. Preparations: Importing required libraries\n2. Start with a little print statement\n\nThis notbook will be published on GitHub"
        },
        {
            "metadata": {},
            "cell_type": "markdown",
            "source": "## Importing Libraries"
        },
        {
            "metadata": {},
            "cell_type": "code",
            "source": "import numpy as np  # Numpy library\nimport pandas as pd # pandas library",
            "execution_count": 1,
            "outputs": []
        },
        {
            "metadata": {},
            "cell_type": "markdown",
            "source": "## Some first Code part"
        },
        {
            "metadata": {},
            "cell_type": "code",
            "source": "print('Hello Capstone Project Course!')",
            "execution_count": 2,
            "outputs": [
                {
                    "output_type": "stream",
                    "text": "Hello Capstone Project Course!\n",
                    "name": "stdout"
                }
            ]
        },
        {
            "metadata": {},
            "cell_type": "markdown",
            "source": "### Done with the first part"
        },
        {
            "metadata": {},
            "cell_type": "code",
            "source": "",
            "execution_count": null,
            "outputs": []
        }
    ],
    "metadata": {
        "kernelspec": {
            "name": "python3",
            "display_name": "Python 3.6",
            "language": "python"
        },
        "language_info": {
            "name": "python",
            "version": "3.6.8",
            "mimetype": "text/x-python",
            "codemirror_mode": {
                "name": "ipython",
                "version": 3
            },
            "pygments_lexer": "ipython3",
            "nbconvert_exporter": "python",
            "file_extension": ".py"
        }
    },
    "nbformat": 4,
    "nbformat_minor": 1
}